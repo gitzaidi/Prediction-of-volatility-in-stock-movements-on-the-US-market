{
 "cells": [
  {
   "cell_type": "code",
   "execution_count": 3,
   "id": "a8eec72c",
   "metadata": {
    "ExecuteTime": {
     "end_time": "2022-08-21T18:43:29.630177Z",
     "start_time": "2022-08-21T18:43:26.649630Z"
    },
    "id": "a8eec72c"
   },
   "outputs": [],
   "source": [
    "import pandas as pd\n",
    "#pd.set_option('display.max_columns', None)\n",
    "#pd.set_option('display.max_rows', None)\n",
    "import numpy as np\n",
    "import matplotlib.pyplot as plt\n",
    "import seaborn as sns\n",
    "sns.set_theme(style=\"whitegrid\")\n",
    "%matplotlib inline\n",
    "\n",
    "\n",
    "from scipy.stats import randint as sp_randint\n",
    "from scipy.stats import uniform as sp_uniform\n",
    "from sklearn.model_selection import RandomizedSearchCV, cross_val_score\n",
    "from sklearn.linear_model import ElasticNet, Ridge\n",
    "from sklearn.metrics import make_scorer\n",
    "# The scoring that is required, mape, is not implemented in Scikitlearn: we have to implement it.\n",
    "def mape(y_true, y_pred): \n",
    "    y_true, y_pred = np.array(y_true), np.array(y_pred)\n",
    "    return np.mean(np.abs((y_true - y_pred) / y_true)) * 100\n",
    "mape_score = make_scorer(mape)\n",
    "import xgboost\n",
    "import lightgbm as lgb\n"
   ]
  },
  {
   "cell_type": "markdown",
   "id": "9540d385",
   "metadata": {
    "id": "9540d385"
   },
   "source": [
    "The goal of this challenge is to predict the volatility on the US stock market for different products.\n",
    "More precisely, we are given their volatilities and returns between 9:30 a.m and 1:55 p.m, and we want to predict the average volatility of each of these products between 2pm and 4pm."
   ]
  },
  {
   "cell_type": "markdown",
   "id": "fb3d5de4",
   "metadata": {
    "ExecuteTime": {
     "end_time": "2022-08-18T08:56:53.550218Z",
     "start_time": "2022-08-18T08:56:53.548165Z"
    },
    "heading_collapsed": true,
    "id": "fb3d5de4"
   },
   "source": [
    "## E.D.A and Data preprocessing"
   ]
  },
  {
   "cell_type": "markdown",
   "id": "e9584719",
   "metadata": {
    "ExecuteTime": {
     "end_time": "2022-08-19T16:03:06.072352Z",
     "start_time": "2022-08-19T16:03:06.068527Z"
    },
    "heading_collapsed": true,
    "hidden": true,
    "id": "e9584719"
   },
   "source": [
    "### Data exploration"
   ]
  },
  {
   "cell_type": "code",
   "execution_count": 4,
   "id": "a417387f",
   "metadata": {
    "ExecuteTime": {
     "end_time": "2022-08-21T18:43:44.124133Z",
     "start_time": "2022-08-21T18:43:29.632294Z"
    },
    "colab": {
     "base_uri": "https://localhost:8080/",
     "height": 772
    },
    "hidden": true,
    "id": "a417387f",
    "outputId": "79fb4be2-348f-446f-be73-f2e2a4801ca4",
    "scrolled": true
   },
   "outputs": [
    {
     "data": {
      "text/html": [
       "\n",
       "  <div id=\"df-f34847ae-6997-4492-be1b-678fab67029d\">\n",
       "    <div class=\"colab-df-container\">\n",
       "      <div>\n",
       "<style scoped>\n",
       "    .dataframe tbody tr th:only-of-type {\n",
       "        vertical-align: middle;\n",
       "    }\n",
       "\n",
       "    .dataframe tbody tr th {\n",
       "        vertical-align: top;\n",
       "    }\n",
       "\n",
       "    .dataframe thead th {\n",
       "        text-align: right;\n",
       "    }\n",
       "</style>\n",
       "<table border=\"1\" class=\"dataframe\">\n",
       "  <thead>\n",
       "    <tr style=\"text-align: right;\">\n",
       "      <th></th>\n",
       "      <th>date</th>\n",
       "      <th>product_id</th>\n",
       "      <th>volatility 09:30:00</th>\n",
       "      <th>volatility 09:35:00</th>\n",
       "      <th>volatility 09:40:00</th>\n",
       "      <th>volatility 09:45:00</th>\n",
       "      <th>volatility 09:50:00</th>\n",
       "      <th>volatility 09:55:00</th>\n",
       "      <th>volatility 10:00:00</th>\n",
       "      <th>volatility 10:05:00</th>\n",
       "      <th>...</th>\n",
       "      <th>return 13:10:00</th>\n",
       "      <th>return 13:15:00</th>\n",
       "      <th>return 13:20:00</th>\n",
       "      <th>return 13:25:00</th>\n",
       "      <th>return 13:30:00</th>\n",
       "      <th>return 13:35:00</th>\n",
       "      <th>return 13:40:00</th>\n",
       "      <th>return 13:45:00</th>\n",
       "      <th>return 13:50:00</th>\n",
       "      <th>return 13:55:00</th>\n",
       "    </tr>\n",
       "    <tr>\n",
       "      <th>ID</th>\n",
       "      <th></th>\n",
       "      <th></th>\n",
       "      <th></th>\n",
       "      <th></th>\n",
       "      <th></th>\n",
       "      <th></th>\n",
       "      <th></th>\n",
       "      <th></th>\n",
       "      <th></th>\n",
       "      <th></th>\n",
       "      <th></th>\n",
       "      <th></th>\n",
       "      <th></th>\n",
       "      <th></th>\n",
       "      <th></th>\n",
       "      <th></th>\n",
       "      <th></th>\n",
       "      <th></th>\n",
       "      <th></th>\n",
       "      <th></th>\n",
       "      <th></th>\n",
       "    </tr>\n",
       "  </thead>\n",
       "  <tbody>\n",
       "    <tr>\n",
       "      <th>1</th>\n",
       "      <td>1</td>\n",
       "      <td>1</td>\n",
       "      <td>0.662737</td>\n",
       "      <td>0.716896</td>\n",
       "      <td>0.698601</td>\n",
       "      <td>0.480172</td>\n",
       "      <td>0.623665</td>\n",
       "      <td>0.201876</td>\n",
       "      <td>0.327206</td>\n",
       "      <td>0.374239</td>\n",
       "      <td>...</td>\n",
       "      <td>1.0</td>\n",
       "      <td>1.0</td>\n",
       "      <td>1.0</td>\n",
       "      <td>-1.0</td>\n",
       "      <td>1.0</td>\n",
       "      <td>-1.0</td>\n",
       "      <td>0.0</td>\n",
       "      <td>1.0</td>\n",
       "      <td>1.0</td>\n",
       "      <td>-1.0</td>\n",
       "    </tr>\n",
       "    <tr>\n",
       "      <th>2</th>\n",
       "      <td>1</td>\n",
       "      <td>2</td>\n",
       "      <td>0.285394</td>\n",
       "      <td>0.379560</td>\n",
       "      <td>0.094858</td>\n",
       "      <td>0.094794</td>\n",
       "      <td>0.055315</td>\n",
       "      <td>0.173994</td>\n",
       "      <td>0.102745</td>\n",
       "      <td>0.079102</td>\n",
       "      <td>...</td>\n",
       "      <td>1.0</td>\n",
       "      <td>1.0</td>\n",
       "      <td>1.0</td>\n",
       "      <td>1.0</td>\n",
       "      <td>1.0</td>\n",
       "      <td>-1.0</td>\n",
       "      <td>-1.0</td>\n",
       "      <td>1.0</td>\n",
       "      <td>-1.0</td>\n",
       "      <td>-1.0</td>\n",
       "    </tr>\n",
       "    <tr>\n",
       "      <th>3</th>\n",
       "      <td>1</td>\n",
       "      <td>3</td>\n",
       "      <td>1.151646</td>\n",
       "      <td>1.093562</td>\n",
       "      <td>1.833443</td>\n",
       "      <td>0.595823</td>\n",
       "      <td>0.310177</td>\n",
       "      <td>0.792310</td>\n",
       "      <td>0.401979</td>\n",
       "      <td>0.336490</td>\n",
       "      <td>...</td>\n",
       "      <td>1.0</td>\n",
       "      <td>1.0</td>\n",
       "      <td>-1.0</td>\n",
       "      <td>-1.0</td>\n",
       "      <td>1.0</td>\n",
       "      <td>1.0</td>\n",
       "      <td>-1.0</td>\n",
       "      <td>1.0</td>\n",
       "      <td>1.0</td>\n",
       "      <td>1.0</td>\n",
       "    </tr>\n",
       "    <tr>\n",
       "      <th>4</th>\n",
       "      <td>1</td>\n",
       "      <td>4</td>\n",
       "      <td>0.835260</td>\n",
       "      <td>0.329615</td>\n",
       "      <td>0.340366</td>\n",
       "      <td>0.216692</td>\n",
       "      <td>0.350371</td>\n",
       "      <td>0.247594</td>\n",
       "      <td>0.341194</td>\n",
       "      <td>0.175573</td>\n",
       "      <td>...</td>\n",
       "      <td>-1.0</td>\n",
       "      <td>1.0</td>\n",
       "      <td>1.0</td>\n",
       "      <td>0.0</td>\n",
       "      <td>1.0</td>\n",
       "      <td>-1.0</td>\n",
       "      <td>-1.0</td>\n",
       "      <td>-1.0</td>\n",
       "      <td>-1.0</td>\n",
       "      <td>1.0</td>\n",
       "    </tr>\n",
       "    <tr>\n",
       "      <th>5</th>\n",
       "      <td>1</td>\n",
       "      <td>5</td>\n",
       "      <td>0.274185</td>\n",
       "      <td>0.061076</td>\n",
       "      <td>0.010168</td>\n",
       "      <td>0.060890</td>\n",
       "      <td>0.000000</td>\n",
       "      <td>0.213162</td>\n",
       "      <td>0.162763</td>\n",
       "      <td>0.203675</td>\n",
       "      <td>...</td>\n",
       "      <td>-1.0</td>\n",
       "      <td>1.0</td>\n",
       "      <td>1.0</td>\n",
       "      <td>0.0</td>\n",
       "      <td>1.0</td>\n",
       "      <td>0.0</td>\n",
       "      <td>-1.0</td>\n",
       "      <td>-1.0</td>\n",
       "      <td>-1.0</td>\n",
       "      <td>0.0</td>\n",
       "    </tr>\n",
       "  </tbody>\n",
       "</table>\n",
       "<p>5 rows × 110 columns</p>\n",
       "</div>\n",
       "      <button class=\"colab-df-convert\" onclick=\"convertToInteractive('df-f34847ae-6997-4492-be1b-678fab67029d')\"\n",
       "              title=\"Convert this dataframe to an interactive table.\"\n",
       "              style=\"display:none;\">\n",
       "        \n",
       "  <svg xmlns=\"http://www.w3.org/2000/svg\" height=\"24px\"viewBox=\"0 0 24 24\"\n",
       "       width=\"24px\">\n",
       "    <path d=\"M0 0h24v24H0V0z\" fill=\"none\"/>\n",
       "    <path d=\"M18.56 5.44l.94 2.06.94-2.06 2.06-.94-2.06-.94-.94-2.06-.94 2.06-2.06.94zm-11 1L8.5 8.5l.94-2.06 2.06-.94-2.06-.94L8.5 2.5l-.94 2.06-2.06.94zm10 10l.94 2.06.94-2.06 2.06-.94-2.06-.94-.94-2.06-.94 2.06-2.06.94z\"/><path d=\"M17.41 7.96l-1.37-1.37c-.4-.4-.92-.59-1.43-.59-.52 0-1.04.2-1.43.59L10.3 9.45l-7.72 7.72c-.78.78-.78 2.05 0 2.83L4 21.41c.39.39.9.59 1.41.59.51 0 1.02-.2 1.41-.59l7.78-7.78 2.81-2.81c.8-.78.8-2.07 0-2.86zM5.41 20L4 18.59l7.72-7.72 1.47 1.35L5.41 20z\"/>\n",
       "  </svg>\n",
       "      </button>\n",
       "      \n",
       "  <style>\n",
       "    .colab-df-container {\n",
       "      display:flex;\n",
       "      flex-wrap:wrap;\n",
       "      gap: 12px;\n",
       "    }\n",
       "\n",
       "    .colab-df-convert {\n",
       "      background-color: #E8F0FE;\n",
       "      border: none;\n",
       "      border-radius: 50%;\n",
       "      cursor: pointer;\n",
       "      display: none;\n",
       "      fill: #1967D2;\n",
       "      height: 32px;\n",
       "      padding: 0 0 0 0;\n",
       "      width: 32px;\n",
       "    }\n",
       "\n",
       "    .colab-df-convert:hover {\n",
       "      background-color: #E2EBFA;\n",
       "      box-shadow: 0px 1px 2px rgba(60, 64, 67, 0.3), 0px 1px 3px 1px rgba(60, 64, 67, 0.15);\n",
       "      fill: #174EA6;\n",
       "    }\n",
       "\n",
       "    [theme=dark] .colab-df-convert {\n",
       "      background-color: #3B4455;\n",
       "      fill: #D2E3FC;\n",
       "    }\n",
       "\n",
       "    [theme=dark] .colab-df-convert:hover {\n",
       "      background-color: #434B5C;\n",
       "      box-shadow: 0px 1px 3px 1px rgba(0, 0, 0, 0.15);\n",
       "      filter: drop-shadow(0px 1px 2px rgba(0, 0, 0, 0.3));\n",
       "      fill: #FFFFFF;\n",
       "    }\n",
       "  </style>\n",
       "\n",
       "      <script>\n",
       "        const buttonEl =\n",
       "          document.querySelector('#df-f34847ae-6997-4492-be1b-678fab67029d button.colab-df-convert');\n",
       "        buttonEl.style.display =\n",
       "          google.colab.kernel.accessAllowed ? 'block' : 'none';\n",
       "\n",
       "        async function convertToInteractive(key) {\n",
       "          const element = document.querySelector('#df-f34847ae-6997-4492-be1b-678fab67029d');\n",
       "          const dataTable =\n",
       "            await google.colab.kernel.invokeFunction('convertToInteractive',\n",
       "                                                     [key], {});\n",
       "          if (!dataTable) return;\n",
       "\n",
       "          const docLinkHtml = 'Like what you see? Visit the ' +\n",
       "            '<a target=\"_blank\" href=https://colab.research.google.com/notebooks/data_table.ipynb>data table notebook</a>'\n",
       "            + ' to learn more about interactive tables.';\n",
       "          element.innerHTML = '';\n",
       "          dataTable['output_type'] = 'display_data';\n",
       "          await google.colab.output.renderOutput(dataTable, element);\n",
       "          const docLink = document.createElement('div');\n",
       "          docLink.innerHTML = docLinkHtml;\n",
       "          element.appendChild(docLink);\n",
       "        }\n",
       "      </script>\n",
       "    </div>\n",
       "  </div>\n",
       "  "
      ],
      "text/plain": [
       "    date  product_id  volatility 09:30:00  volatility 09:35:00  \\\n",
       "ID                                                               \n",
       "1      1           1             0.662737             0.716896   \n",
       "2      1           2             0.285394             0.379560   \n",
       "3      1           3             1.151646             1.093562   \n",
       "4      1           4             0.835260             0.329615   \n",
       "5      1           5             0.274185             0.061076   \n",
       "\n",
       "    volatility 09:40:00  volatility 09:45:00  volatility 09:50:00  \\\n",
       "ID                                                                  \n",
       "1              0.698601             0.480172             0.623665   \n",
       "2              0.094858             0.094794             0.055315   \n",
       "3              1.833443             0.595823             0.310177   \n",
       "4              0.340366             0.216692             0.350371   \n",
       "5              0.010168             0.060890             0.000000   \n",
       "\n",
       "    volatility 09:55:00  volatility 10:00:00  volatility 10:05:00  ...  \\\n",
       "ID                                                                 ...   \n",
       "1              0.201876             0.327206             0.374239  ...   \n",
       "2              0.173994             0.102745             0.079102  ...   \n",
       "3              0.792310             0.401979             0.336490  ...   \n",
       "4              0.247594             0.341194             0.175573  ...   \n",
       "5              0.213162             0.162763             0.203675  ...   \n",
       "\n",
       "    return 13:10:00  return 13:15:00  return 13:20:00  return 13:25:00  \\\n",
       "ID                                                                       \n",
       "1               1.0              1.0              1.0             -1.0   \n",
       "2               1.0              1.0              1.0              1.0   \n",
       "3               1.0              1.0             -1.0             -1.0   \n",
       "4              -1.0              1.0              1.0              0.0   \n",
       "5              -1.0              1.0              1.0              0.0   \n",
       "\n",
       "    return 13:30:00  return 13:35:00  return 13:40:00  return 13:45:00  \\\n",
       "ID                                                                       \n",
       "1               1.0             -1.0              0.0              1.0   \n",
       "2               1.0             -1.0             -1.0              1.0   \n",
       "3               1.0              1.0             -1.0              1.0   \n",
       "4               1.0             -1.0             -1.0             -1.0   \n",
       "5               1.0              0.0             -1.0             -1.0   \n",
       "\n",
       "    return 13:50:00  return 13:55:00  \n",
       "ID                                    \n",
       "1               1.0             -1.0  \n",
       "2              -1.0             -1.0  \n",
       "3               1.0              1.0  \n",
       "4              -1.0              1.0  \n",
       "5              -1.0              0.0  \n",
       "\n",
       "[5 rows x 110 columns]"
      ]
     },
     "metadata": {},
     "output_type": "display_data"
    },
    {
     "data": {
      "text/html": [
       "\n",
       "  <div id=\"df-2df4585a-bf55-4e05-b98b-11e2e027e8f2\">\n",
       "    <div class=\"colab-df-container\">\n",
       "      <div>\n",
       "<style scoped>\n",
       "    .dataframe tbody tr th:only-of-type {\n",
       "        vertical-align: middle;\n",
       "    }\n",
       "\n",
       "    .dataframe tbody tr th {\n",
       "        vertical-align: top;\n",
       "    }\n",
       "\n",
       "    .dataframe thead th {\n",
       "        text-align: right;\n",
       "    }\n",
       "</style>\n",
       "<table border=\"1\" class=\"dataframe\">\n",
       "  <thead>\n",
       "    <tr style=\"text-align: right;\">\n",
       "      <th></th>\n",
       "      <th>date</th>\n",
       "      <th>product_id</th>\n",
       "      <th>volatility 09:30:00</th>\n",
       "      <th>volatility 09:35:00</th>\n",
       "      <th>volatility 09:40:00</th>\n",
       "      <th>volatility 09:45:00</th>\n",
       "      <th>volatility 09:50:00</th>\n",
       "      <th>volatility 09:55:00</th>\n",
       "      <th>volatility 10:00:00</th>\n",
       "      <th>volatility 10:05:00</th>\n",
       "      <th>...</th>\n",
       "      <th>return 13:10:00</th>\n",
       "      <th>return 13:15:00</th>\n",
       "      <th>return 13:20:00</th>\n",
       "      <th>return 13:25:00</th>\n",
       "      <th>return 13:30:00</th>\n",
       "      <th>return 13:35:00</th>\n",
       "      <th>return 13:40:00</th>\n",
       "      <th>return 13:45:00</th>\n",
       "      <th>return 13:50:00</th>\n",
       "      <th>return 13:55:00</th>\n",
       "    </tr>\n",
       "    <tr>\n",
       "      <th>ID</th>\n",
       "      <th></th>\n",
       "      <th></th>\n",
       "      <th></th>\n",
       "      <th></th>\n",
       "      <th></th>\n",
       "      <th></th>\n",
       "      <th></th>\n",
       "      <th></th>\n",
       "      <th></th>\n",
       "      <th></th>\n",
       "      <th></th>\n",
       "      <th></th>\n",
       "      <th></th>\n",
       "      <th></th>\n",
       "      <th></th>\n",
       "      <th></th>\n",
       "      <th></th>\n",
       "      <th></th>\n",
       "      <th></th>\n",
       "      <th></th>\n",
       "      <th></th>\n",
       "    </tr>\n",
       "  </thead>\n",
       "  <tbody>\n",
       "    <tr>\n",
       "      <th>636314</th>\n",
       "      <td>2118</td>\n",
       "      <td>1</td>\n",
       "      <td>1.789785</td>\n",
       "      <td>0.331795</td>\n",
       "      <td>0.116128</td>\n",
       "      <td>0.149308</td>\n",
       "      <td>0.314758</td>\n",
       "      <td>0.248846</td>\n",
       "      <td>0.545911</td>\n",
       "      <td>0.115758</td>\n",
       "      <td>...</td>\n",
       "      <td>0.0</td>\n",
       "      <td>-1.0</td>\n",
       "      <td>-1.0</td>\n",
       "      <td>1.0</td>\n",
       "      <td>0.0</td>\n",
       "      <td>1.0</td>\n",
       "      <td>0.0</td>\n",
       "      <td>1.0</td>\n",
       "      <td>1.0</td>\n",
       "      <td>1.0</td>\n",
       "    </tr>\n",
       "    <tr>\n",
       "      <th>636315</th>\n",
       "      <td>2118</td>\n",
       "      <td>2</td>\n",
       "      <td>0.476156</td>\n",
       "      <td>0.562543</td>\n",
       "      <td>0.437287</td>\n",
       "      <td>0.155260</td>\n",
       "      <td>0.084687</td>\n",
       "      <td>0.113053</td>\n",
       "      <td>0.113087</td>\n",
       "      <td>0.070637</td>\n",
       "      <td>...</td>\n",
       "      <td>-1.0</td>\n",
       "      <td>-1.0</td>\n",
       "      <td>0.0</td>\n",
       "      <td>1.0</td>\n",
       "      <td>0.0</td>\n",
       "      <td>0.0</td>\n",
       "      <td>1.0</td>\n",
       "      <td>1.0</td>\n",
       "      <td>1.0</td>\n",
       "      <td>-1.0</td>\n",
       "    </tr>\n",
       "    <tr>\n",
       "      <th>636316</th>\n",
       "      <td>2118</td>\n",
       "      <td>3</td>\n",
       "      <td>0.311971</td>\n",
       "      <td>1.004342</td>\n",
       "      <td>0.868062</td>\n",
       "      <td>0.189651</td>\n",
       "      <td>0.566655</td>\n",
       "      <td>0.298565</td>\n",
       "      <td>0.235630</td>\n",
       "      <td>0.314808</td>\n",
       "      <td>...</td>\n",
       "      <td>1.0</td>\n",
       "      <td>-1.0</td>\n",
       "      <td>1.0</td>\n",
       "      <td>0.0</td>\n",
       "      <td>0.0</td>\n",
       "      <td>1.0</td>\n",
       "      <td>-1.0</td>\n",
       "      <td>1.0</td>\n",
       "      <td>1.0</td>\n",
       "      <td>-1.0</td>\n",
       "    </tr>\n",
       "    <tr>\n",
       "      <th>636317</th>\n",
       "      <td>2118</td>\n",
       "      <td>4</td>\n",
       "      <td>1.791920</td>\n",
       "      <td>0.502895</td>\n",
       "      <td>0.233128</td>\n",
       "      <td>0.197036</td>\n",
       "      <td>0.071677</td>\n",
       "      <td>0.125627</td>\n",
       "      <td>0.089803</td>\n",
       "      <td>0.378188</td>\n",
       "      <td>...</td>\n",
       "      <td>1.0</td>\n",
       "      <td>0.0</td>\n",
       "      <td>1.0</td>\n",
       "      <td>0.0</td>\n",
       "      <td>-1.0</td>\n",
       "      <td>1.0</td>\n",
       "      <td>0.0</td>\n",
       "      <td>1.0</td>\n",
       "      <td>1.0</td>\n",
       "      <td>0.0</td>\n",
       "    </tr>\n",
       "    <tr>\n",
       "      <th>636318</th>\n",
       "      <td>2118</td>\n",
       "      <td>5</td>\n",
       "      <td>0.339878</td>\n",
       "      <td>0.395725</td>\n",
       "      <td>0.526572</td>\n",
       "      <td>0.112837</td>\n",
       "      <td>0.018806</td>\n",
       "      <td>0.018806</td>\n",
       "      <td>0.263286</td>\n",
       "      <td>0.056418</td>\n",
       "      <td>...</td>\n",
       "      <td>1.0</td>\n",
       "      <td>1.0</td>\n",
       "      <td>1.0</td>\n",
       "      <td>1.0</td>\n",
       "      <td>-1.0</td>\n",
       "      <td>0.0</td>\n",
       "      <td>-1.0</td>\n",
       "      <td>-1.0</td>\n",
       "      <td>0.0</td>\n",
       "      <td>0.0</td>\n",
       "    </tr>\n",
       "  </tbody>\n",
       "</table>\n",
       "<p>5 rows × 110 columns</p>\n",
       "</div>\n",
       "      <button class=\"colab-df-convert\" onclick=\"convertToInteractive('df-2df4585a-bf55-4e05-b98b-11e2e027e8f2')\"\n",
       "              title=\"Convert this dataframe to an interactive table.\"\n",
       "              style=\"display:none;\">\n",
       "        \n",
       "  <svg xmlns=\"http://www.w3.org/2000/svg\" height=\"24px\"viewBox=\"0 0 24 24\"\n",
       "       width=\"24px\">\n",
       "    <path d=\"M0 0h24v24H0V0z\" fill=\"none\"/>\n",
       "    <path d=\"M18.56 5.44l.94 2.06.94-2.06 2.06-.94-2.06-.94-.94-2.06-.94 2.06-2.06.94zm-11 1L8.5 8.5l.94-2.06 2.06-.94-2.06-.94L8.5 2.5l-.94 2.06-2.06.94zm10 10l.94 2.06.94-2.06 2.06-.94-2.06-.94-.94-2.06-.94 2.06-2.06.94z\"/><path d=\"M17.41 7.96l-1.37-1.37c-.4-.4-.92-.59-1.43-.59-.52 0-1.04.2-1.43.59L10.3 9.45l-7.72 7.72c-.78.78-.78 2.05 0 2.83L4 21.41c.39.39.9.59 1.41.59.51 0 1.02-.2 1.41-.59l7.78-7.78 2.81-2.81c.8-.78.8-2.07 0-2.86zM5.41 20L4 18.59l7.72-7.72 1.47 1.35L5.41 20z\"/>\n",
       "  </svg>\n",
       "      </button>\n",
       "      \n",
       "  <style>\n",
       "    .colab-df-container {\n",
       "      display:flex;\n",
       "      flex-wrap:wrap;\n",
       "      gap: 12px;\n",
       "    }\n",
       "\n",
       "    .colab-df-convert {\n",
       "      background-color: #E8F0FE;\n",
       "      border: none;\n",
       "      border-radius: 50%;\n",
       "      cursor: pointer;\n",
       "      display: none;\n",
       "      fill: #1967D2;\n",
       "      height: 32px;\n",
       "      padding: 0 0 0 0;\n",
       "      width: 32px;\n",
       "    }\n",
       "\n",
       "    .colab-df-convert:hover {\n",
       "      background-color: #E2EBFA;\n",
       "      box-shadow: 0px 1px 2px rgba(60, 64, 67, 0.3), 0px 1px 3px 1px rgba(60, 64, 67, 0.15);\n",
       "      fill: #174EA6;\n",
       "    }\n",
       "\n",
       "    [theme=dark] .colab-df-convert {\n",
       "      background-color: #3B4455;\n",
       "      fill: #D2E3FC;\n",
       "    }\n",
       "\n",
       "    [theme=dark] .colab-df-convert:hover {\n",
       "      background-color: #434B5C;\n",
       "      box-shadow: 0px 1px 3px 1px rgba(0, 0, 0, 0.15);\n",
       "      filter: drop-shadow(0px 1px 2px rgba(0, 0, 0, 0.3));\n",
       "      fill: #FFFFFF;\n",
       "    }\n",
       "  </style>\n",
       "\n",
       "      <script>\n",
       "        const buttonEl =\n",
       "          document.querySelector('#df-2df4585a-bf55-4e05-b98b-11e2e027e8f2 button.colab-df-convert');\n",
       "        buttonEl.style.display =\n",
       "          google.colab.kernel.accessAllowed ? 'block' : 'none';\n",
       "\n",
       "        async function convertToInteractive(key) {\n",
       "          const element = document.querySelector('#df-2df4585a-bf55-4e05-b98b-11e2e027e8f2');\n",
       "          const dataTable =\n",
       "            await google.colab.kernel.invokeFunction('convertToInteractive',\n",
       "                                                     [key], {});\n",
       "          if (!dataTable) return;\n",
       "\n",
       "          const docLinkHtml = 'Like what you see? Visit the ' +\n",
       "            '<a target=\"_blank\" href=https://colab.research.google.com/notebooks/data_table.ipynb>data table notebook</a>'\n",
       "            + ' to learn more about interactive tables.';\n",
       "          element.innerHTML = '';\n",
       "          dataTable['output_type'] = 'display_data';\n",
       "          await google.colab.output.renderOutput(dataTable, element);\n",
       "          const docLink = document.createElement('div');\n",
       "          docLink.innerHTML = docLinkHtml;\n",
       "          element.appendChild(docLink);\n",
       "        }\n",
       "      </script>\n",
       "    </div>\n",
       "  </div>\n",
       "  "
      ],
      "text/plain": [
       "        date  product_id  volatility 09:30:00  volatility 09:35:00  \\\n",
       "ID                                                                   \n",
       "636314  2118           1             1.789785             0.331795   \n",
       "636315  2118           2             0.476156             0.562543   \n",
       "636316  2118           3             0.311971             1.004342   \n",
       "636317  2118           4             1.791920             0.502895   \n",
       "636318  2118           5             0.339878             0.395725   \n",
       "\n",
       "        volatility 09:40:00  volatility 09:45:00  volatility 09:50:00  \\\n",
       "ID                                                                      \n",
       "636314             0.116128             0.149308             0.314758   \n",
       "636315             0.437287             0.155260             0.084687   \n",
       "636316             0.868062             0.189651             0.566655   \n",
       "636317             0.233128             0.197036             0.071677   \n",
       "636318             0.526572             0.112837             0.018806   \n",
       "\n",
       "        volatility 09:55:00  volatility 10:00:00  volatility 10:05:00  ...  \\\n",
       "ID                                                                     ...   \n",
       "636314             0.248846             0.545911             0.115758  ...   \n",
       "636315             0.113053             0.113087             0.070637  ...   \n",
       "636316             0.298565             0.235630             0.314808  ...   \n",
       "636317             0.125627             0.089803             0.378188  ...   \n",
       "636318             0.018806             0.263286             0.056418  ...   \n",
       "\n",
       "        return 13:10:00  return 13:15:00  return 13:20:00  return 13:25:00  \\\n",
       "ID                                                                           \n",
       "636314              0.0             -1.0             -1.0              1.0   \n",
       "636315             -1.0             -1.0              0.0              1.0   \n",
       "636316              1.0             -1.0              1.0              0.0   \n",
       "636317              1.0              0.0              1.0              0.0   \n",
       "636318              1.0              1.0              1.0              1.0   \n",
       "\n",
       "        return 13:30:00  return 13:35:00  return 13:40:00  return 13:45:00  \\\n",
       "ID                                                                           \n",
       "636314              0.0              1.0              0.0              1.0   \n",
       "636315              0.0              0.0              1.0              1.0   \n",
       "636316              0.0              1.0             -1.0              1.0   \n",
       "636317             -1.0              1.0              0.0              1.0   \n",
       "636318             -1.0              0.0             -1.0             -1.0   \n",
       "\n",
       "        return 13:50:00  return 13:55:00  \n",
       "ID                                        \n",
       "636314              1.0              1.0  \n",
       "636315              1.0             -1.0  \n",
       "636316              1.0             -1.0  \n",
       "636317              1.0              0.0  \n",
       "636318              0.0              0.0  \n",
       "\n",
       "[5 rows x 110 columns]"
      ]
     },
     "metadata": {},
     "output_type": "display_data"
    },
    {
     "data": {
      "text/plain": [
       "ID\n",
       "1    0.134168\n",
       "2    0.046126\n",
       "3    0.144312\n",
       "4    0.130176\n",
       "5    0.085873\n",
       "Name: TARGET, dtype: float64"
      ]
     },
     "metadata": {},
     "output_type": "display_data"
    },
    {
     "name": "stdout",
     "output_type": "stream",
     "text": [
      "X_train shape: (636313, 110)\n",
      "X_train shape: (636313,)\n"
     ]
    }
   ],
   "source": [
    "# Loading the training/testing input datasets: X_train, X_test\n",
    "X_train = pd.read_csv('x_train.csv', sep=\";\")\n",
    "X_train.index = X_train['ID']\n",
    "X_train = X_train.drop('ID',axis=1)\n",
    "display(X_train.head())\n",
    "\n",
    "X_test = pd.read_csv('x_test.csv', sep=\";\")\n",
    "X_test.index = X_test['ID']\n",
    "X_test = X_test.drop('ID',axis = 1)\n",
    "display(X_test.head())\n",
    "\n",
    "# Loading the training input dataset Y\n",
    "y_train = pd.read_csv('y_train.csv', sep=\";\")\n",
    "y_train[['ID','TARGET']] = y_train['ID,TARGET'].str.split(\",\",expand=True)\n",
    "y_train.drop(columns=['ID,TARGET'],inplace = True)\n",
    "y_train.index = y_train['ID']\n",
    "y_train = y_train['TARGET'].astype(float)\n",
    "display(y_train.head())\n",
    "\n",
    "# List of the times for volatility and return\n",
    "volatility_col = X_train.columns[2:56]\n",
    "return_col = X_train.columns[56:]\n",
    "\n",
    "print(f'X_train shape: {X_train.shape}')\n",
    "print(f'X_train shape: {y_train.shape}')"
   ]
  },
  {
   "cell_type": "markdown",
   "id": "977bae53",
   "metadata": {
    "hidden": true,
    "id": "977bae53"
   },
   "source": [
    "We have been given the following information:\n",
    "- <u>1 column</u> corresponding to the date of the measurement. \n",
    "- <u>1 column</u> corresponding to the id of the product we consider.\n",
    "- <u>54 columns</u>: Each column corresponds to a 5 minutes interval, starting from 9:30 a.m and ending at 1:55pm, and is filled with the \\textbf{volatility} taken by the stock in this interval. The volatility is the standard deviation of the prices of the stock on a given interval.\n",
    "- <u>54 columns</u>: Each column corresponds to a 5 minutes interval, starting from 9:30 a.m and ending at 1:55pm, and is filled with the \\textbf{return} on investment measured during this interval. The return is +1 or -1, depending on the price change during the five minutes period.\n",
    "    \n",
    "The training output file contains the target for each 'ID', where the target is the volatility of the same set of stocks and dates measured between 2:00pm and 4:00pm.\n",
    "\n",
    "\\textbf{A very important remark is that the column 'date' giving us the day of the measurement is not necessarily ordered.} This means, in particular, that we cannot treat the whole thing as a time series problem."
   ]
  },
  {
   "cell_type": "code",
   "execution_count": null,
   "id": "2c39594c",
   "metadata": {
    "ExecuteTime": {
     "end_time": "2022-08-21T14:30:36.255704Z",
     "start_time": "2022-08-21T14:30:36.104132Z"
    },
    "hidden": true,
    "id": "2c39594c",
    "outputId": "6b21bb9b-6430-4cb9-c945-79ba6cbfbdbc"
   },
   "outputs": [
    {
     "data": {
      "image/png": "[encoded data removed]",
      "text/plain": [
       "<Figure size 432x288 with 1 Axes>"
      ]
     },
     "metadata": {
      "needs_background": "light"
     },
     "output_type": "display_data"
    }
   ],
   "source": [
    "volatility_day_one_five_first_products = X_train[(X_train['product_id'].isin([1,2,3,4,5])) & (X_train['date']==1)][volatility_col]\n",
    "list_of_products_vol = [volatility_day_one_five_first_products.loc[i].values for i in range(1,6)]\n",
    "\n",
    "date_range = np.arange(54)\n",
    "\n",
    "for product_vol in list_of_products_vol:\n",
    "    sns.lineplot(x=date_range,y=product_vol, linewidth=1.8).set_title('The evolution, during day 1, of the volatility of 5 different products.')\n"
   ]
  },
  {
   "cell_type": "markdown",
   "id": "963e110a",
   "metadata": {
    "ExecuteTime": {
     "end_time": "2022-08-19T16:12:35.543229Z",
     "start_time": "2022-08-19T16:12:35.539138Z"
    },
    "hidden": true,
    "id": "963e110a"
   },
   "source": [
    "- As one could expect, the different products' variations are strongly correlated. Indeed, the economical context act similarily for most stocks, and thus, on their volatilities."
   ]
  },
  {
   "cell_type": "code",
   "execution_count": null,
   "id": "202bea26",
   "metadata": {
    "ExecuteTime": {
     "end_time": "2022-08-21T14:31:15.362008Z",
     "start_time": "2022-08-21T14:31:15.265897Z"
    },
    "hidden": true,
    "id": "202bea26",
    "outputId": "9c81a40b-6cdc-41f9-cc4c-6231bc3d5306"
   },
   "outputs": [
    {
     "data": {
      "image/png": "[encoded data removed]",
      "text/plain": [
       "<Figure size 432x288 with 1 Axes>"
      ]
     },
     "metadata": {
      "needs_background": "light"
     },
     "output_type": "display_data"
    }
   ],
   "source": [
    "volatility_day_one_five_first_products = X_train[(X_train['product_id'].isin([211])) & (X_train['date']==1)][volatility_col]\n",
    "list_of_products_vol = [volatility_day_one_five_first_products.loc[i].values for i in [211]]\n",
    "\n",
    "date_range = np.arange(54)\n",
    "\n",
    "for product_vol in list_of_products_vol:\n",
    "    sns.lineplot(x=date_range,y=product_vol, linewidth=1.8).set_title('The evolution, during day 1, of the volatility of product 211: very different behaviour from the five first products.')\n"
   ]
  },
  {
   "cell_type": "markdown",
   "id": "db01dac5",
   "metadata": {
    "ExecuteTime": {
     "end_time": "2022-08-21T14:31:11.732538Z",
     "start_time": "2022-08-21T14:31:11.728133Z"
    },
    "hidden": true,
    "id": "db01dac5"
   },
   "source": [
    "- Looking at the products more closely, we find some behaviours that are really odd. This probably means that we will have to group products depending on their behaviour to optimize the prediction."
   ]
  },
  {
   "cell_type": "markdown",
   "id": "43b45e96",
   "metadata": {
    "ExecuteTime": {
     "end_time": "2022-08-19T15:30:18.324499Z",
     "start_time": "2022-08-19T15:30:18.319456Z"
    },
    "hidden": true,
    "id": "43b45e96"
   },
   "source": [
    "\n",
    "We now look at the distribution of the volatilities."
   ]
  },
  {
   "cell_type": "code",
   "execution_count": null,
   "id": "21877398",
   "metadata": {
    "ExecuteTime": {
     "end_time": "2022-08-21T14:31:52.164532Z",
     "start_time": "2022-08-21T14:31:50.354186Z"
    },
    "hidden": true,
    "id": "21877398",
    "outputId": "600a367d-8dd8-48aa-9312-d3d8d974bd54"
   },
   "outputs": [
    {
     "data": {
      "text/html": [
       "<div>\n",
       "<style scoped>\n",
       "    .dataframe tbody tr th:only-of-type {\n",
       "        vertical-align: middle;\n",
       "    }\n",
       "\n",
       "    .dataframe tbody tr th {\n",
       "        vertical-align: top;\n",
       "    }\n",
       "\n",
       "    .dataframe thead th {\n",
       "        text-align: right;\n",
       "    }\n",
       "</style>\n",
       "<table border=\"1\" class=\"dataframe\">\n",
       "  <thead>\n",
       "    <tr style=\"text-align: right;\">\n",
       "      <th></th>\n",
       "      <th>date</th>\n",
       "      <th>product_id</th>\n",
       "      <th>volatility 09:30:00</th>\n",
       "      <th>volatility 09:35:00</th>\n",
       "      <th>volatility 09:40:00</th>\n",
       "      <th>volatility 09:45:00</th>\n",
       "      <th>volatility 09:50:00</th>\n",
       "      <th>volatility 09:55:00</th>\n",
       "      <th>volatility 10:00:00</th>\n",
       "      <th>volatility 10:05:00</th>\n",
       "      <th>...</th>\n",
       "      <th>return 13:10:00</th>\n",
       "      <th>return 13:15:00</th>\n",
       "      <th>return 13:20:00</th>\n",
       "      <th>return 13:25:00</th>\n",
       "      <th>return 13:30:00</th>\n",
       "      <th>return 13:35:00</th>\n",
       "      <th>return 13:40:00</th>\n",
       "      <th>return 13:45:00</th>\n",
       "      <th>return 13:50:00</th>\n",
       "      <th>return 13:55:00</th>\n",
       "    </tr>\n",
       "  </thead>\n",
       "  <tbody>\n",
       "    <tr>\n",
       "      <th>count</th>\n",
       "      <td>636313.000000</td>\n",
       "      <td>636313.000000</td>\n",
       "      <td>608222.000000</td>\n",
       "      <td>627558.000000</td>\n",
       "      <td>630656.000000</td>\n",
       "      <td>631557.000000</td>\n",
       "      <td>631777.000000</td>\n",
       "      <td>631501.000000</td>\n",
       "      <td>632508.000000</td>\n",
       "      <td>631853.000000</td>\n",
       "      <td>...</td>\n",
       "      <td>626321.000000</td>\n",
       "      <td>626998.000000</td>\n",
       "      <td>626938.000000</td>\n",
       "      <td>627065.000000</td>\n",
       "      <td>627895.000000</td>\n",
       "      <td>627707.000000</td>\n",
       "      <td>627567.000000</td>\n",
       "      <td>628083.000000</td>\n",
       "      <td>628147.000000</td>\n",
       "      <td>628642.000000</td>\n",
       "    </tr>\n",
       "    <tr>\n",
       "      <th>mean</th>\n",
       "      <td>1059.128210</td>\n",
       "      <td>160.248984</td>\n",
       "      <td>0.584382</td>\n",
       "      <td>0.477272</td>\n",
       "      <td>0.408130</td>\n",
       "      <td>0.362365</td>\n",
       "      <td>0.336104</td>\n",
       "      <td>0.308503</td>\n",
       "      <td>0.337733</td>\n",
       "      <td>0.294587</td>\n",
       "      <td>...</td>\n",
       "      <td>-0.004932</td>\n",
       "      <td>0.022227</td>\n",
       "      <td>0.002102</td>\n",
       "      <td>0.001214</td>\n",
       "      <td>-0.007946</td>\n",
       "      <td>-0.012997</td>\n",
       "      <td>-0.002698</td>\n",
       "      <td>0.001941</td>\n",
       "      <td>-0.008592</td>\n",
       "      <td>-0.008393</td>\n",
       "    </tr>\n",
       "    <tr>\n",
       "      <th>std</th>\n",
       "      <td>610.501769</td>\n",
       "      <td>92.014489</td>\n",
       "      <td>0.642999</td>\n",
       "      <td>0.496037</td>\n",
       "      <td>0.437281</td>\n",
       "      <td>0.377806</td>\n",
       "      <td>0.356739</td>\n",
       "      <td>0.323668</td>\n",
       "      <td>0.343424</td>\n",
       "      <td>0.315100</td>\n",
       "      <td>...</td>\n",
       "      <td>0.908353</td>\n",
       "      <td>0.909381</td>\n",
       "      <td>0.909945</td>\n",
       "      <td>0.909467</td>\n",
       "      <td>0.913197</td>\n",
       "      <td>0.912219</td>\n",
       "      <td>0.912355</td>\n",
       "      <td>0.912933</td>\n",
       "      <td>0.912810</td>\n",
       "      <td>0.914069</td>\n",
       "    </tr>\n",
       "    <tr>\n",
       "      <th>min</th>\n",
       "      <td>1.000000</td>\n",
       "      <td>1.000000</td>\n",
       "      <td>0.000000</td>\n",
       "      <td>0.000000</td>\n",
       "      <td>0.000000</td>\n",
       "      <td>0.000000</td>\n",
       "      <td>0.000000</td>\n",
       "      <td>0.000000</td>\n",
       "      <td>0.000000</td>\n",
       "      <td>0.000000</td>\n",
       "      <td>...</td>\n",
       "      <td>-1.000000</td>\n",
       "      <td>-1.000000</td>\n",
       "      <td>-1.000000</td>\n",
       "      <td>-1.000000</td>\n",
       "      <td>-1.000000</td>\n",
       "      <td>-1.000000</td>\n",
       "      <td>-1.000000</td>\n",
       "      <td>-1.000000</td>\n",
       "      <td>-1.000000</td>\n",
       "      <td>-1.000000</td>\n",
       "    </tr>\n",
       "    <tr>\n",
       "      <th>25%</th>\n",
       "      <td>531.000000</td>\n",
       "      <td>81.000000</td>\n",
       "      <td>0.226861</td>\n",
       "      <td>0.192658</td>\n",
       "      <td>0.164098</td>\n",
       "      <td>0.144090</td>\n",
       "      <td>0.130837</td>\n",
       "      <td>0.120699</td>\n",
       "      <td>0.133030</td>\n",
       "      <td>0.114617</td>\n",
       "      <td>...</td>\n",
       "      <td>-1.000000</td>\n",
       "      <td>-1.000000</td>\n",
       "      <td>-1.000000</td>\n",
       "      <td>-1.000000</td>\n",
       "      <td>-1.000000</td>\n",
       "      <td>-1.000000</td>\n",
       "      <td>-1.000000</td>\n",
       "      <td>-1.000000</td>\n",
       "      <td>-1.000000</td>\n",
       "      <td>-1.000000</td>\n",
       "    </tr>\n",
       "    <tr>\n",
       "      <th>50%</th>\n",
       "      <td>1058.000000</td>\n",
       "      <td>161.000000</td>\n",
       "      <td>0.423908</td>\n",
       "      <td>0.346012</td>\n",
       "      <td>0.294692</td>\n",
       "      <td>0.260319</td>\n",
       "      <td>0.238546</td>\n",
       "      <td>0.220700</td>\n",
       "      <td>0.240355</td>\n",
       "      <td>0.209278</td>\n",
       "      <td>...</td>\n",
       "      <td>0.000000</td>\n",
       "      <td>0.000000</td>\n",
       "      <td>0.000000</td>\n",
       "      <td>0.000000</td>\n",
       "      <td>0.000000</td>\n",
       "      <td>0.000000</td>\n",
       "      <td>0.000000</td>\n",
       "      <td>0.000000</td>\n",
       "      <td>0.000000</td>\n",
       "      <td>0.000000</td>\n",
       "    </tr>\n",
       "    <tr>\n",
       "      <th>75%</th>\n",
       "      <td>1589.000000</td>\n",
       "      <td>241.000000</td>\n",
       "      <td>0.737118</td>\n",
       "      <td>0.599145</td>\n",
       "      <td>0.511246</td>\n",
       "      <td>0.454621</td>\n",
       "      <td>0.420426</td>\n",
       "      <td>0.388414</td>\n",
       "      <td>0.423885</td>\n",
       "      <td>0.370043</td>\n",
       "      <td>...</td>\n",
       "      <td>1.000000</td>\n",
       "      <td>1.000000</td>\n",
       "      <td>1.000000</td>\n",
       "      <td>1.000000</td>\n",
       "      <td>1.000000</td>\n",
       "      <td>1.000000</td>\n",
       "      <td>1.000000</td>\n",
       "      <td>1.000000</td>\n",
       "      <td>1.000000</td>\n",
       "      <td>1.000000</td>\n",
       "    </tr>\n",
       "    <tr>\n",
       "      <th>max</th>\n",
       "      <td>2117.000000</td>\n",
       "      <td>318.000000</td>\n",
       "      <td>46.463028</td>\n",
       "      <td>22.345580</td>\n",
       "      <td>27.829934</td>\n",
       "      <td>18.600202</td>\n",
       "      <td>16.226835</td>\n",
       "      <td>20.255632</td>\n",
       "      <td>11.413828</td>\n",
       "      <td>17.792948</td>\n",
       "      <td>...</td>\n",
       "      <td>1.000000</td>\n",
       "      <td>1.000000</td>\n",
       "      <td>1.000000</td>\n",
       "      <td>1.000000</td>\n",
       "      <td>1.000000</td>\n",
       "      <td>1.000000</td>\n",
       "      <td>1.000000</td>\n",
       "      <td>1.000000</td>\n",
       "      <td>1.000000</td>\n",
       "      <td>1.000000</td>\n",
       "    </tr>\n",
       "  </tbody>\n",
       "</table>\n",
       "<p>8 rows × 110 columns</p>\n",
       "</div>"
      ],
      "text/plain": [
       "                date     product_id  volatility 09:30:00  volatility 09:35:00  \\\n",
       "count  636313.000000  636313.000000        608222.000000        627558.000000   \n",
       "mean     1059.128210     160.248984             0.584382             0.477272   \n",
       "std       610.501769      92.014489             0.642999             0.496037   \n",
       "min         1.000000       1.000000             0.000000             0.000000   \n",
       "25%       531.000000      81.000000             0.226861             0.192658   \n",
       "50%      1058.000000     161.000000             0.423908             0.346012   \n",
       "75%      1589.000000     241.000000             0.737118             0.599145   \n",
       "max      2117.000000     318.000000            46.463028            22.345580   \n",
       "\n",
       "       volatility 09:40:00  volatility 09:45:00  volatility 09:50:00  \\\n",
       "count        630656.000000        631557.000000        631777.000000   \n",
       "mean              0.408130             0.362365             0.336104   \n",
       "std               0.437281             0.377806             0.356739   \n",
       "min               0.000000             0.000000             0.000000   \n",
       "25%               0.164098             0.144090             0.130837   \n",
       "50%               0.294692             0.260319             0.238546   \n",
       "75%               0.511246             0.454621             0.420426   \n",
       "max              27.829934            18.600202            16.226835   \n",
       "\n",
       "       volatility 09:55:00  volatility 10:00:00  volatility 10:05:00  ...  \\\n",
       "count        631501.000000        632508.000000        631853.000000  ...   \n",
       "mean              0.308503             0.337733             0.294587  ...   \n",
       "std               0.323668             0.343424             0.315100  ...   \n",
       "min               0.000000             0.000000             0.000000  ...   \n",
       "25%               0.120699             0.133030             0.114617  ...   \n",
       "50%               0.220700             0.240355             0.209278  ...   \n",
       "75%               0.388414             0.423885             0.370043  ...   \n",
       "max              20.255632            11.413828            17.792948  ...   \n",
       "\n",
       "       return 13:10:00  return 13:15:00  return 13:20:00  return 13:25:00  \\\n",
       "count    626321.000000    626998.000000    626938.000000    627065.000000   \n",
       "mean         -0.004932         0.022227         0.002102         0.001214   \n",
       "std           0.908353         0.909381         0.909945         0.909467   \n",
       "min          -1.000000        -1.000000        -1.000000        -1.000000   \n",
       "25%          -1.000000        -1.000000        -1.000000        -1.000000   \n",
       "50%           0.000000         0.000000         0.000000         0.000000   \n",
       "75%           1.000000         1.000000         1.000000         1.000000   \n",
       "max           1.000000         1.000000         1.000000         1.000000   \n",
       "\n",
       "       return 13:30:00  return 13:35:00  return 13:40:00  return 13:45:00  \\\n",
       "count    627895.000000    627707.000000    627567.000000    628083.000000   \n",
       "mean         -0.007946        -0.012997        -0.002698         0.001941   \n",
       "std           0.913197         0.912219         0.912355         0.912933   \n",
       "min          -1.000000        -1.000000        -1.000000        -1.000000   \n",
       "25%          -1.000000        -1.000000        -1.000000        -1.000000   \n",
       "50%           0.000000         0.000000         0.000000         0.000000   \n",
       "75%           1.000000         1.000000         1.000000         1.000000   \n",
       "max           1.000000         1.000000         1.000000         1.000000   \n",
       "\n",
       "       return 13:50:00  return 13:55:00  \n",
       "count    628147.000000    628642.000000  \n",
       "mean         -0.008592        -0.008393  \n",
       "std           0.912810         0.914069  \n",
       "min          -1.000000        -1.000000  \n",
       "25%          -1.000000        -1.000000  \n",
       "50%           0.000000         0.000000  \n",
       "75%           1.000000         1.000000  \n",
       "max           1.000000         1.000000  \n",
       "\n",
       "[8 rows x 110 columns]"
      ]
     },
     "execution_count": 11,
     "metadata": {},
     "output_type": "execute_result"
    }
   ],
   "source": [
    "X_train.describe()"
   ]
  },
  {
   "cell_type": "markdown",
   "id": "83780dbf",
   "metadata": {
    "ExecuteTime": {
     "end_time": "2022-08-19T15:42:08.673007Z",
     "start_time": "2022-08-19T15:42:08.664100Z"
    },
    "hidden": true,
    "id": "83780dbf"
   },
   "source": [
    "- Looking at this, it is clear that we have outliers, the max value is way too high. This is not too problematic, however, as MAPE gives more importance to low values."
   ]
  },
  {
   "cell_type": "code",
   "execution_count": null,
   "id": "44accd43",
   "metadata": {
    "ExecuteTime": {
     "end_time": "2022-08-21T14:39:34.941035Z",
     "start_time": "2022-08-21T14:39:24.164667Z"
    },
    "hidden": true,
    "id": "44accd43",
    "outputId": "0b615d48-f77f-4e4f-b750-bdb92cdc9f96"
   },
   "outputs": [
    {
     "data": {
      "image/png": "[encoded data removed]",
      "text/plain": [
       "<Figure size 432x288 with 2 Axes>"
      ]
     },
     "metadata": {
      "needs_background": "light"
     },
     "output_type": "display_data"
    }
   ],
   "source": [
    "sns.heatmap(X_train.corr());"
   ]
  },
  {
   "cell_type": "markdown",
   "id": "ca181917",
   "metadata": {
    "ExecuteTime": {
     "end_time": "2022-08-21T14:35:24.552326Z",
     "start_time": "2022-08-21T14:35:24.548383Z"
    },
    "hidden": true,
    "id": "ca181917"
   },
   "source": [
    "- The correlation matrice allows us to tell which of the primitive variables are correlated. \n",
    "\n",
    "- We can read that most variables do not hold any correlation, however, there are relationships between the lines that correspond to volatilities."
   ]
  },
  {
   "cell_type": "code",
   "execution_count": null,
   "id": "1210f087",
   "metadata": {
    "ExecuteTime": {
     "end_time": "2022-08-21T14:35:36.791467Z",
     "start_time": "2022-08-21T14:35:33.487056Z"
    },
    "hidden": true,
    "id": "1210f087",
    "outputId": "2ab50328-61ab-4ae3-81bb-2b8640dabab1"
   },
   "outputs": [
    {
     "data": {
      "image/png": "[encoded data removed]",
      "text/plain": [
       "<Figure size 432x288 with 2 Axes>"
      ]
     },
     "metadata": {
      "needs_background": "light"
     },
     "output_type": "display_data"
    }
   ],
   "source": [
    "sns.heatmap(X_train[volatility_col].corr());"
   ]
  },
  {
   "cell_type": "markdown",
   "id": "d2fd845a",
   "metadata": {
    "ExecuteTime": {
     "end_time": "2022-08-21T14:38:46.860562Z",
     "start_time": "2022-08-21T14:38:46.850338Z"
    },
    "hidden": true,
    "id": "d2fd845a"
   },
   "source": [
    "- For a fixed date and a fixed product, volatilities are correlated les volatilités pour un produit.\n",
    "- In particular, volatility at time $t$ is strongly linked to volatility at times $t+1$ and $t-1$\n",
    "\n",
    "\\textbf{ This means that, for our prediction, we should give more importance to the volatility at 1:45pm, 1:50pm and 1:55pm that the ones obtained at an earlier hour.}"
   ]
  },
  {
   "cell_type": "code",
   "execution_count": 5,
   "id": "c860fdc5",
   "metadata": {
    "ExecuteTime": {
     "end_time": "2022-08-21T14:40:06.058255Z",
     "start_time": "2022-08-21T14:40:05.977755Z"
    },
    "colab": {
     "base_uri": "https://localhost:8080/",
     "height": 1000
    },
    "hidden": true,
    "id": "c860fdc5",
    "outputId": "424a3733-2e88-4148-fdfe-bc4cd3d5e6e4"
   },
   "outputs": [
    {
     "data": {
      "text/plain": [
       "(636313, 110)"
      ]
     },
     "metadata": {},
     "output_type": "display_data"
    },
    {
     "name": "stdout",
     "output_type": "stream",
     "text": [
      "Percentage of nans:\n"
     ]
    },
    {
     "data": {
      "text/plain": [
       "date                   0.000000\n",
       "product_id             0.000000\n",
       "return 10:00:00        0.597976\n",
       "volatility 10:00:00    0.597976\n",
       "volatility 10:05:00    0.700913\n",
       "return 10:05:00        0.700913\n",
       "volatility 09:50:00    0.712857\n",
       "return 09:50:00        0.712857\n",
       "volatility 10:10:00    0.715686\n",
       "return 10:10:00        0.715686\n",
       "volatility 10:15:00    0.734387\n",
       "return 10:15:00        0.734387\n",
       "volatility 09:45:00    0.747431\n",
       "return 09:45:00        0.747431\n",
       "volatility 09:55:00    0.756232\n",
       "return 09:55:00        0.756232\n",
       "return 10:30:00        0.758117\n",
       "volatility 10:30:00    0.758117\n",
       "return 10:20:00        0.789706\n",
       "volatility 10:20:00    0.789706\n",
       "volatility 10:35:00    0.841095\n",
       "return 10:35:00        0.841095\n",
       "return 10:25:00        0.846282\n",
       "volatility 10:25:00    0.846282\n",
       "return 11:00:00        0.880856\n",
       "volatility 11:00:00    0.880856\n",
       "volatility 09:40:00    0.889028\n",
       "return 09:40:00        0.889028\n",
       "volatility 10:40:00    0.896100\n",
       "return 10:40:00        0.896100\n",
       "return 10:45:00        0.905529\n",
       "volatility 10:45:00    0.905529\n",
       "volatility 10:50:00    0.935860\n",
       "return 10:50:00        0.935860\n",
       "volatility 11:10:00    0.957548\n",
       "return 11:10:00        0.957548\n",
       "volatility 10:55:00    0.959905\n",
       "return 11:05:00        0.959905\n",
       "volatility 11:05:00    0.959905\n",
       "return 10:55:00        0.959905\n",
       "volatility 11:15:00    0.963677\n",
       "return 11:15:00        0.963677\n",
       "volatility 11:25:00    1.010509\n",
       "return 11:25:00        1.010509\n",
       "volatility 11:20:00    1.030782\n",
       "return 11:20:00        1.030782\n",
       "volatility 11:30:00    1.046183\n",
       "return 11:30:00        1.046183\n",
       "volatility 11:35:00    1.151006\n",
       "return 11:35:00        1.151006\n",
       "volatility 13:55:00    1.205539\n",
       "return 13:55:00        1.205539\n",
       "volatility 11:45:00    1.212925\n",
       "return 11:45:00        1.212925\n",
       "volatility 11:40:00    1.215125\n",
       "return 11:40:00        1.215125\n",
       "volatility 11:50:00    1.240113\n",
       "return 11:50:00        1.240113\n",
       "volatility 12:00:00    1.253314\n",
       "return 12:00:00        1.253314\n",
       "volatility 13:50:00    1.283331\n",
       "return 13:50:00        1.283331\n",
       "return 13:45:00        1.293389\n",
       "volatility 13:45:00    1.293389\n",
       "volatility 11:55:00    1.300775\n",
       "return 11:55:00        1.300775\n",
       "volatility 13:30:00    1.322934\n",
       "return 13:30:00        1.322934\n",
       "return 13:35:00        1.352479\n",
       "volatility 13:35:00    1.352479\n",
       "return 13:40:00        1.374481\n",
       "volatility 13:40:00    1.374481\n",
       "volatility 09:35:00    1.375895\n",
       "return 09:35:00        1.375895\n",
       "volatility 12:05:00    1.376995\n",
       "return 12:05:00        1.376995\n",
       "volatility 12:30:00    1.396954\n",
       "return 12:30:00        1.396954\n",
       "return 13:00:00        1.426342\n",
       "volatility 13:00:00    1.426342\n",
       "return 12:15:00        1.448344\n",
       "volatility 12:15:00    1.448344\n",
       "volatility 13:25:00    1.453373\n",
       "return 13:25:00        1.453373\n",
       "volatility 12:10:00    1.461231\n",
       "return 12:10:00        1.461231\n",
       "volatility 13:15:00    1.463902\n",
       "return 13:15:00        1.463902\n",
       "volatility 13:20:00    1.473332\n",
       "return 13:20:00        1.473332\n",
       "return 12:20:00        1.478989\n",
       "volatility 12:20:00    1.478989\n",
       "return 12:45:00        1.507277\n",
       "volatility 12:45:00    1.507277\n",
       "return 12:25:00        1.510106\n",
       "volatility 12:25:00    1.510106\n",
       "volatility 12:35:00    1.547352\n",
       "return 12:35:00        1.547352\n",
       "return 12:50:00        1.547666\n",
       "volatility 12:50:00    1.547666\n",
       "volatility 12:40:00    1.552381\n",
       "return 12:40:00        1.552381\n",
       "return 13:05:00        1.552538\n",
       "volatility 13:05:00    1.552538\n",
       "return 13:10:00        1.570296\n",
       "volatility 13:10:00    1.570296\n",
       "return 12:55:00        1.576897\n",
       "volatility 12:55:00    1.576897\n",
       "volatility 09:30:00    4.414651\n",
       "return 09:30:00        4.414651\n",
       "dtype: float64"
      ]
     },
     "metadata": {},
     "output_type": "display_data"
    }
   ],
   "source": [
    "pd.set_option('display.max_rows', None)\n",
    "display(X_train.shape)\n",
    "print('Percentage of nans:')\n",
    "display((X_train.isnull().sum().sort_values()/X_train.shape[0])*100)\n",
    "pd.set_option('display.max_rows',10)"
   ]
  },
  {
   "cell_type": "markdown",
   "id": "c4bae70e",
   "metadata": {
    "ExecuteTime": {
     "end_time": "2022-08-19T16:03:23.541390Z",
     "start_time": "2022-08-19T16:03:23.539016Z"
    },
    "heading_collapsed": true,
    "hidden": true,
    "id": "c4bae70e"
   },
   "source": [
    "### Train/val/test split "
   ]
  },
  {
   "cell_type": "markdown",
   "id": "8f90f3ed",
   "metadata": {
    "hidden": true,
    "id": "8f90f3ed"
   },
   "source": [
    "Since the data depends a lot on which day we are looking at, we have to take that into account when we split the dataset. We have been given X_train and X_test. In order to define X_val, we manually extract 10% of X_train, making sure that we do not mix one day in both datasets."
   ]
  },
  {
   "cell_type": "code",
   "execution_count": 6,
   "id": "bb4167cb",
   "metadata": {
    "ExecuteTime": {
     "start_time": "2022-08-21T14:52:17.392Z"
    },
    "hidden": true,
    "id": "bb4167cb"
   },
   "outputs": [],
   "source": [
    "#Train/val split: do it by hand because of the date factor.\n",
    "X_train.reset_index(level=0,inplace = True)\n",
    "X_train.index +=1\n",
    "\n",
    "index_val = np.random.choice(np.arange(1,2118),int(2117/10),replace = False)\n",
    "index_train = np.array([index for index in range(1,2118)  if index not in index_val])\n",
    "index_val.sort()\n",
    "index_train.sort()\n",
    "\n",
    "X_val = X_train[X_train['date'].isin(index_val)].sort_values(['date','product_id'])\n",
    "X_train = X_train[X_train['date'].isin(index_train)].sort_values(['date','product_id'])\n",
    "\n",
    "y_val = y_train.loc[y_train.index[X_val['ID']-1]]\n",
    "y_train = y_train.loc[y_train.index[X_train['ID']-1]]\n",
    "\n",
    "X_train.drop('ID',axis = 1,inplace = True)\n",
    "X_val.drop('ID',axis = 1,inplace = True)"
   ]
  },
  {
   "cell_type": "code",
   "execution_count": 8,
   "id": "fe75f20e",
   "metadata": {
    "ExecuteTime": {
     "end_time": "2022-08-21T14:53:59.581154Z",
     "start_time": "2022-08-21T14:53:59.568455Z"
    },
    "hidden": true,
    "id": "fe75f20e"
   },
   "outputs": [],
   "source": [
    "# To check that everythings works well\n",
    "assert X_train.shape[0] == y_train.shape[0]\n",
    "assert X_val.shape[0] == y_val.shape[0]"
   ]
  },
  {
   "cell_type": "markdown",
   "id": "a86902bc",
   "metadata": {
    "heading_collapsed": true,
    "hidden": true,
    "id": "a86902bc"
   },
   "source": [
    "### Treating N.a.n values"
   ]
  },
  {
   "cell_type": "markdown",
   "id": "1f197fdb",
   "metadata": {
    "ExecuteTime": {
     "end_time": "2022-08-19T17:00:07.550077Z",
     "start_time": "2022-08-19T17:00:07.545966Z"
    },
    "hidden": true,
    "id": "1f197fdb"
   },
   "source": [
    "In general, we obtain a good result replacing missing values by the median of the other values.\n",
    "However, when using MAPE as the scoring metric, linear interpolation happens to be more efficient."
   ]
  },
  {
   "cell_type": "code",
   "execution_count": 7,
   "id": "a8bc5560",
   "metadata": {
    "ExecuteTime": {
     "start_time": "2022-08-21T14:42:14.858Z"
    },
    "hidden": true,
    "id": "a8bc5560"
   },
   "outputs": [],
   "source": [
    "for col in volatility_col:\n",
    "    X_train[col].interpolate(limit_direction=\"both\", inplace=True)\n",
    "    X_val[col].interpolate(limit_direction=\"both\", inplace=True)\n",
    "    X_test[col].interpolate(limit_direction=\"both\", inplace=True)\n",
    "for col in return_col:\n",
    "    X_train[col].interpolate(limit_direction=\"both\", inplace=True)\n",
    "    X_val[col].interpolate(limit_direction=\"both\", inplace=True)\n",
    "    X_test[col].interpolate(limit_direction=\"both\", inplace=True)"
   ]
  },
  {
   "cell_type": "markdown",
   "id": "7c013344",
   "metadata": {
    "heading_collapsed": true,
    "hidden": true,
    "id": "7c013344"
   },
   "source": [
    "### Benchmark"
   ]
  },
  {
   "cell_type": "markdown",
   "id": "b09f53ee",
   "metadata": {
    "hidden": true,
    "id": "b09f53ee"
   },
   "source": [
    "The most natural benchmarks, considering our previous analysis, would be to take the average of volatilities obtained during the rest of the day. We try different variations of this idea."
   ]
  },
  {
   "cell_type": "code",
   "execution_count": 8,
   "id": "40b8bca0",
   "metadata": {
    "colab": {
     "base_uri": "https://localhost:8080/"
    },
    "hidden": true,
    "id": "40b8bca0",
    "outputId": "df4080fa-686c-4b0c-9721-7755a5ae2061"
   },
   "outputs": [
    {
     "name": "stdout",
     "output_type": "stream",
     "text": [
      "Mean of all measurements: 36.11698869858346\n",
      "Mean of last 10 measurements: 27.131588218591528\n"
     ]
    }
   ],
   "source": [
    "benchmark_mean = X_val[volatility_col].mean(axis = 1)\n",
    "print(f'Mean of all measurements: {mape(y_val,benchmark_mean)}')\n",
    "\n",
    "benchmark_mean_recent = (X_val[volatility_col[-20:]]).mean(axis = 1)\n",
    "print(f'Mean of last 10 measurements: {mape(y_val,benchmark_mean_recent)}')\n"
   ]
  },
  {
   "cell_type": "markdown",
   "id": "1e051741",
   "metadata": {
    "heading_collapsed": true,
    "id": "1e051741"
   },
   "source": [
    "## Features engineering"
   ]
  },
  {
   "cell_type": "markdown",
   "id": "49a5cfdc",
   "metadata": {
    "hidden": true,
    "id": "49a5cfdc"
   },
   "source": [
    "The main problem we face with this dataset is that the number of column is too high to allow fast computations of most powerful machine learning models. An idea to tackle this problem is to replace the columns by features that have been computed out of them and, we hope, will englobe enough of the information to provide a good result in the end. After several attempts, we decided to use the following features. There are 20 of them, dividing the original amount by 5.\n",
    "\n",
    "**Features related to volatilities:**\n",
    "\n",
    "- Last 5 volatilities in the day (since the most important data are the ones close to 2 p.m);\n",
    "- Average of all volatilities in the day;\n",
    "- Average of the last 10 volatilities in the day;\n",
    "- Exponential weighted moving average of all volatilities  in the day;\n",
    "- Standard deviation of all volatilities in the day;\n",
    "- Maximum of volatilities in the day;\n",
    "- Minimum of volatilities in the day;\n",
    "- Kurtosis of volatilities in the day;\n",
    "\n",
    "**Features related to the derivative of volatilities :**\n",
    "\n",
    "- Average of all differences between the volatilities measured at the date $t$ and $t+1$.\n",
    "- Standard deviation of all differences between the volatilities measured at the date $t$ and $t+1$.\n",
    "- Maximum of all differences between the volatilities measured at the date $t$ and $t+1$.\n",
    "- Minimum of all differences between the volatilities measured at the date $t$ and $t+1$.\n",
    "- The difference between the volatilities measured at 1:55 pm and 1:50pm.\n",
    "\n",
    "**Features related to returns:**\n",
    "- Average of all returns in the day;\n",
    "- Standard deviation of all returns in the day;\n",
    "- Last return in the day."
   ]
  },
  {
   "cell_type": "code",
   "execution_count": 9,
   "id": "7dea121a",
   "metadata": {
    "ExecuteTime": {
     "end_time": "2022-08-20T10:46:24.429094Z",
     "start_time": "2022-08-20T10:46:24.426151Z"
    },
    "hidden": true,
    "id": "7dea121a"
   },
   "outputs": [],
   "source": [
    "## Features engineering\n",
    "\n",
    "for df in [X_train,X_val,X_test]:\n",
    "    df['volatility_from_end_0'] = df[volatility_col].iloc[:, -1]\n",
    "    for i in range(1,5):\n",
    "        df[f'volatility_from_end_{i}'] = df[volatility_col].iloc[:, -(i+1):-i]\n",
    "    df['volatility_mean'] = df[volatility_col].mean(axis = 1)\n",
    "    df['volatility_mean_last_10'] = (df[volatility_col].iloc[:, -10:]).mean(axis = 1)\n",
    "    df['volatility_ewm'] = df[volatility_col].ewm(alpha=0.7, min_periods=0, axis=1).mean().mean(axis=1)\n",
    "\n",
    "    df['volatility_std'] = df[volatility_col].std(axis = 1)\n",
    "    df['volatility_kurtosis'] = df[volatility_col].kurtosis(axis = 1)\n",
    "    df['volatility_max'] = df[volatility_col].max(axis = 1)\n",
    "    df['volatility_min'] = df[volatility_col].min(axis = 1)\n",
    " \n",
    "    df['volatility_diff_mean'] = df[volatility_col].diff(periods = 1, axis = 1).mean(axis=1)\n",
    "    df['volatility_diff_std'] = df[volatility_col].diff(periods = 1, axis = 1).std(axis=1)\n",
    "    df['volatility_diff_max'] = df[volatility_col].diff(periods = 1, axis = 1).max(axis=1)\n",
    "    df['volatility_diff_min'] = df[volatility_col].diff(periods = 1, axis = 1).min(axis=1)\n",
    "    df['volatility_diff_last']= df[volatility_col].diff(periods = 1, axis = 1).iloc[:,-1:]\n",
    "\n",
    "    df['last_return'] = df[volatility_col].iloc[:, -1:]\n",
    "    df['return_mean'] = df[return_col].mean(axis = 1)\n",
    "    df['return_std'] = df[return_col].std(axis = 1)\n",
    "    df.drop(columns = volatility_col, inplace = True)\n",
    "    df.drop(columns = return_col, inplace = True)\n",
    "  \n"
   ]
  },
  {
   "cell_type": "markdown",
   "id": "2135f587",
   "metadata": {
    "ExecuteTime": {
     "end_time": "2022-08-21T16:15:27.407222Z",
     "start_time": "2022-08-21T16:15:27.404501Z"
    },
    "id": "2135f587"
   },
   "source": [
    "## Model "
   ]
  },
  {
   "cell_type": "markdown",
   "id": "f060be19",
   "metadata": {
    "id": "f060be19"
   },
   "source": [
    "In order to make the prediction, we produce several regression models and compute their averages (this is the idea of ensemble methods). We fine-tuned each of these models by Gridsearch or Randomsearch with cross-validation (5 splits).\n",
    "\n",
    "We list the algorithms we used, their respective scores on the validation set and their execution time:\n",
    "- Ridge regression: **27.968**  (1 second)\n",
    "- Elasticnet : **28.119**     (3 seconds)\n",
    "- LightGBM: **27.498**          (43 seconds)\n",
    "- XgBoost regressor: **27.200**   (24 minutes)\n",
    "\n",
    "\n",
    "The model consisting in considering the average of the predictions of these models gives a score of **25.882**."
   ]
  },
  {
   "cell_type": "code",
   "execution_count": 21,
   "id": "ca66e3a8",
   "metadata": {
    "ExecuteTime": {
     "end_time": "2022-08-21T19:04:47.014424Z",
     "start_time": "2022-08-21T19:04:47.009271Z"
    },
    "colab": {
     "base_uri": "https://localhost:8080/"
    },
    "id": "ca66e3a8",
    "outputId": "4b9f2583-2153-4bdc-9e0e-867a59021263"
   },
   "outputs": [
    {
     "name": "stderr",
     "output_type": "stream",
     "text": [
      "/usr/local/lib/python3.7/dist-packages/sklearn/linear_model/_coordinate_descent.py:648: ConvergenceWarning: Objective did not converge. You might want to increase the number of iterations, check the scale of the features or consider increasing regularisation. Duality gap: 2.322e+03, tolerance: 1.349e+00\n",
      "  coef_, l1_reg, l2_reg, X, y, max_iter, tol, rng, random, positive\n"
     ]
    },
    {
     "name": "stdout",
     "output_type": "stream",
     "text": [
      "[06:53:27] WARNING: /workspace/src/objective/regression_obj.cu:152: reg:linear is now deprecated in favor of reg:squarederror.\n"
     ]
    }
   ],
   "source": [
    "model_ridge = Ridge()\n",
    "model_ridge.fit(X_train,y_train)\n",
    "model_eNet = ElasticNet(max_iter=5,alpha=0.01,l1_ratio=0.1)\n",
    "model_eNet.fit(X_train, y_train)\n",
    "model_lgbm = lgb.LGBMRegressor(colsample_bytree= 0.9783293844433719,\n",
    "                                   learning_rate= 0.03,\n",
    "                                   max_depth= 3,\n",
    "                                   min_child_samples= 426,\n",
    "                                   min_child_weight= 10.0,\n",
    "                                   n_estimators= 200,\n",
    "                                   num_leaves= 13,\n",
    "                                   reg_alpha= 0,\n",
    "                                   reg_lambda= 0.1,\n",
    "                                   subsample= 0.40945817229114534)\n",
    "model_lgbm.fit(X_train,y_train)\n",
    "model_xgboost = xgboost.XGBRegressor(n_estimators=500, learning_rate=0.08, subsample=0.75,colsample_bytree=1, max_depth=7)\n",
    "model_xgboost.fit(X_train, y_train, eval_metric=mape)\n",
    "\n",
    "def model_final_pred(X):\n",
    "    result = (model_ridge.predict(X)+model_eNet.predict(X)+model_lgbm.predict(X)+model_xgboost.predict(X))/4\n",
    "    y_test = pd.Series(result,name='TARGET')\n",
    "    y_test.index += 1\n",
    "    y_test.index.name = 'ID'\n",
    "    return y_test.reset_index()\n",
    "\n",
    "def model_final_score(X,y):\n",
    "    return mape(y,model_final_pred(X))\n"
   ]
  },
  {
   "cell_type": "code",
   "execution_count": 24,
   "id": "3f1a638f",
   "metadata": {
    "colab": {
     "base_uri": "https://localhost:8080/"
    },
    "id": "3f1a638f",
    "outputId": "17448dff-e86e-43b8-f0c4-8ac69e539f5f"
   },
   "outputs": [
    {
     "name": "stderr",
     "output_type": "stream",
     "text": [
      "/usr/local/lib/python3.7/dist-packages/sklearn/linear_model/_coordinate_descent.py:648: ConvergenceWarning: Objective did not converge. You might want to increase the number of iterations, check the scale of the features or consider increasing regularisation. Duality gap: 2.445e+03, tolerance: 1.388e+00\n",
      "  coef_, l1_reg, l2_reg, X, y, max_iter, tol, rng, random, positive\n"
     ]
    },
    {
     "name": "stdout",
     "output_type": "stream",
     "text": [
      "[22:08:48] WARNING: /workspace/src/objective/regression_obj.cu:152: reg:linear is now deprecated in favor of reg:squarederror.\n"
     ]
    },
    {
     "data": {
      "text/plain": [
       "25.882438926376427"
      ]
     },
     "execution_count": 24,
     "metadata": {},
     "output_type": "execute_result"
    }
   ],
   "source": [
    "model_final_score(X_val,y_val)"
   ]
  },
  {
   "cell_type": "code",
   "execution_count": 31,
   "id": "111e5e4a",
   "metadata": {
    "id": "111e5e4a"
   },
   "outputs": [],
   "source": [
    "y_test = model_final_pred(X_test)\n",
    "y_test.to_csv('/content/drive/My Drive/y_test.csv', index=False))"
   ]
  }
 ],
 "metadata": {
  "colab": {
   "collapsed_sections": [],
   "name": "Prediction_volatility_US_stocks.ipynb",
   "provenance": []
  },
  "kernelspec": {
   "display_name": "Python 3 (ipykernel)",
   "language": "python",
   "name": "python3"
  },
  "language_info": {
   "codemirror_mode": {
    "name": "ipython",
    "version": 3
   },
   "file_extension": ".py",
   "mimetype": "text/x-python",
   "name": "python",
   "nbconvert_exporter": "python",
   "pygments_lexer": "ipython3",
   "version": "3.8.13"
  },
  "latex_envs": {
   "LaTeX_envs_menu_present": true,
   "autoclose": false,
   "autocomplete": true,
   "bibliofile": "biblio.bib",
   "cite_by": "apalike",
   "current_citInitial": 1,
   "eqLabelWithNumbers": true,
   "eqNumInitial": 1,
   "hotkeys": {
    "equation": "Ctrl-E",
    "itemize": "Ctrl-I"
   },
   "labels_anchors": false,
   "latex_user_defs": false,
   "report_style_numbering": false,
   "user_envs_cfg": false
  },
  "toc": {
   "base_numbering": 1,
   "nav_menu": {},
   "number_sections": true,
   "sideBar": true,
   "skip_h1_title": false,
   "title_cell": "Table of Contents",
   "title_sidebar": "Contents",
   "toc_cell": false,
   "toc_position": {},
   "toc_section_display": true,
   "toc_window_display": false
  }
 },
 "nbformat": 4,
 "nbformat_minor": 5
}
